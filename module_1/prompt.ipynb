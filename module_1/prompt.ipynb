{
 "cells": [
  {
   "cell_type": "markdown",
   "metadata": {
    "id": "CcUT6Fon_qRE"
   },
   "source": [
    "### Required Assignment 5.1: Will the Customer Accept the Coupon?\n",
    "\n",
    "**Context**\n",
    "\n",
    "Imagine driving through town and a coupon is delivered to your cell phone for a restaurant near where you are driving. Would you accept that coupon and take a short detour to the restaurant? Would you accept the coupon but use it on a subsequent trip? Would you ignore the coupon entirely? What if the coupon was for a bar instead of a restaurant? What about a coffee house? Would you accept a bar coupon with a minor passenger in the car? What about if it was just you and your partner in the car? Would weather impact the rate of acceptance? What about the time of day?\n",
    "\n",
    "Obviously, proximity to the business is a factor on whether the coupon is delivered to the driver or not, but what are the factors that determine whether a driver accepts the coupon once it is delivered to them? How would you determine whether a driver is likely to accept a coupon?\n",
    "\n",
    "**Overview**\n",
    "\n",
    "The goal of this project is to use what you know about visualizations and probability distributions to distinguish between customers who accepted a driving coupon versus those that did not.\n",
    "\n",
    "**Data**\n",
    "\n",
    "This data comes to us from the UCI Machine Learning repository and was collected via a survey on Amazon Mechanical Turk. The survey describes different driving scenarios including the destination, current time, weather, passenger, etc., and then ask the person whether he will accept the coupon if he is the driver. Answers that the user will drive there ‘right away’ or ‘later before the coupon expires’ are labeled as ‘Y = 1’ and answers ‘no, I do not want the coupon’ are labeled as ‘Y = 0’.  There are five different types of coupons -- less expensive restaurants (under \\$20), coffee houses, carry out & take away, bar, and more expensive restaurants (\\$20 - $50)."
   ]
  },
  {
   "cell_type": "markdown",
   "metadata": {
    "id": "1wORvMBJ_qRF"
   },
   "source": [
    "**Deliverables**\n",
    "\n",
    "Your final product should be a brief report that highlights the differences between customers who did and did not accept the coupons.  To explore the data you will utilize your knowledge of plotting, statistical summaries, and visualization using Python. You will publish your findings in a public facing github repository as your first portfolio piece.\n",
    "\n",
    "\n",
    "\n"
   ]
  },
  {
   "cell_type": "markdown",
   "metadata": {
    "id": "pG6_Ym6q_qRG"
   },
   "source": [
    "### Data Description\n",
    "Keep in mind that these values mentioned below are average values.\n",
    "\n",
    "The attributes of this data set include:\n",
    "1. User attributes\n",
    "    -  Gender: male, female\n",
    "    -  Age: below 21, 21 to 25, 26 to 30, etc.\n",
    "    -  Marital Status: single, married partner, unmarried partner, or widowed\n",
    "    -  Number of children: 0, 1, or more than 1\n",
    "    -  Education: high school, bachelors degree, associates degree, or graduate degree\n",
    "    -  Occupation: architecture & engineering, business & financial, etc.\n",
    "    -  Annual income: less than \\\\$12500, \\\\$12500 - \\\\$24999, \\\\$25000 - \\\\$37499, etc.\n",
    "    -  Number of times that he/she goes to a bar: 0, less than 1, 1 to 3, 4 to 8 or greater than 8\n",
    "    -  Number of times that he/she buys takeaway food: 0, less than 1, 1 to 3, 4 to 8 or greater\n",
    "    than 8\n",
    "    -  Number of times that he/she goes to a coffee house: 0, less than 1, 1 to 3, 4 to 8 or\n",
    "    greater than 8\n",
    "    -  Number of times that he/she eats at a restaurant with average expense less than \\\\$20 per\n",
    "    person: 0, less than 1, 1 to 3, 4 to 8 or greater than 8\n",
    "    -  Number of times that he/she goes to a bar: 0, less than 1, 1 to 3, 4 to 8 or greater than 8\n",
    "    \n",
    "\n",
    "2. Contextual attributes\n",
    "    - Driving destination: home, work, or no urgent destination\n",
    "    - Location of user, coupon and destination: we provide a map to show the geographical\n",
    "    location of the user, destination, and the venue, and we mark the distance between each\n",
    "    two places with time of driving. The user can see whether the venue is in the same\n",
    "    direction as the destination.\n",
    "    - Weather: sunny, rainy, or snowy\n",
    "    - Temperature: 30F, 55F, or 80F\n",
    "    - Time: 10AM, 2PM, or 6PM\n",
    "    - Passenger: alone, partner, kid(s), or friend(s)\n",
    "\n",
    "\n",
    "3. Coupon attributes\n",
    "    - time before it expires: 2 hours or one day"
   ]
  },
  {
   "cell_type": "code",
   "execution_count": 2,
   "metadata": {
    "id": "dzNoP3o__qRG"
   },
   "outputs": [],
   "source": [
    "import matplotlib.pyplot as plt\n",
    "import seaborn as sns\n",
    "import pandas as pd\n",
    "import numpy as np"
   ]
  },
  {
   "cell_type": "markdown",
   "metadata": {
    "id": "Ct8pI1uE_qRG"
   },
   "source": [
    "### Problems\n",
    "\n",
    "Use the prompts below to get started with your data analysis.  \n",
    "\n",
    "1. Read in the `coupons.csv` file.\n",
    "\n",
    "\n"
   ]
  },
  {
   "cell_type": "code",
   "execution_count": 3,
   "metadata": {
    "id": "X0vbffYg_qRH"
   },
   "outputs": [],
   "source": [
    "data = pd.read_csv('data/coupons.csv')"
   ]
  },
  {
   "cell_type": "code",
   "execution_count": 4,
   "metadata": {
    "id": "TXofQ_DF_qRH",
    "outputId": "2fc96a2c-1112-4b54-f24f-dbb9bc88abfb"
   },
   "outputs": [
    {
     "data": {
      "text/html": [
       "<div>\n",
       "<style scoped>\n",
       "    .dataframe tbody tr th:only-of-type {\n",
       "        vertical-align: middle;\n",
       "    }\n",
       "\n",
       "    .dataframe tbody tr th {\n",
       "        vertical-align: top;\n",
       "    }\n",
       "\n",
       "    .dataframe thead th {\n",
       "        text-align: right;\n",
       "    }\n",
       "</style>\n",
       "<table border=\"1\" class=\"dataframe\">\n",
       "  <thead>\n",
       "    <tr style=\"text-align: right;\">\n",
       "      <th></th>\n",
       "      <th>destination</th>\n",
       "      <th>passanger</th>\n",
       "      <th>weather</th>\n",
       "      <th>temperature</th>\n",
       "      <th>time</th>\n",
       "      <th>coupon</th>\n",
       "      <th>expiration</th>\n",
       "      <th>gender</th>\n",
       "      <th>age</th>\n",
       "      <th>maritalStatus</th>\n",
       "      <th>...</th>\n",
       "      <th>CoffeeHouse</th>\n",
       "      <th>CarryAway</th>\n",
       "      <th>RestaurantLessThan20</th>\n",
       "      <th>Restaurant20To50</th>\n",
       "      <th>toCoupon_GEQ5min</th>\n",
       "      <th>toCoupon_GEQ15min</th>\n",
       "      <th>toCoupon_GEQ25min</th>\n",
       "      <th>direction_same</th>\n",
       "      <th>direction_opp</th>\n",
       "      <th>Y</th>\n",
       "    </tr>\n",
       "  </thead>\n",
       "  <tbody>\n",
       "    <tr>\n",
       "      <th>0</th>\n",
       "      <td>No Urgent Place</td>\n",
       "      <td>Alone</td>\n",
       "      <td>Sunny</td>\n",
       "      <td>55</td>\n",
       "      <td>2PM</td>\n",
       "      <td>Restaurant(&lt;20)</td>\n",
       "      <td>1d</td>\n",
       "      <td>Female</td>\n",
       "      <td>21</td>\n",
       "      <td>Unmarried partner</td>\n",
       "      <td>...</td>\n",
       "      <td>never</td>\n",
       "      <td>NaN</td>\n",
       "      <td>4~8</td>\n",
       "      <td>1~3</td>\n",
       "      <td>1</td>\n",
       "      <td>0</td>\n",
       "      <td>0</td>\n",
       "      <td>0</td>\n",
       "      <td>1</td>\n",
       "      <td>1</td>\n",
       "    </tr>\n",
       "    <tr>\n",
       "      <th>1</th>\n",
       "      <td>No Urgent Place</td>\n",
       "      <td>Friend(s)</td>\n",
       "      <td>Sunny</td>\n",
       "      <td>80</td>\n",
       "      <td>10AM</td>\n",
       "      <td>Coffee House</td>\n",
       "      <td>2h</td>\n",
       "      <td>Female</td>\n",
       "      <td>21</td>\n",
       "      <td>Unmarried partner</td>\n",
       "      <td>...</td>\n",
       "      <td>never</td>\n",
       "      <td>NaN</td>\n",
       "      <td>4~8</td>\n",
       "      <td>1~3</td>\n",
       "      <td>1</td>\n",
       "      <td>0</td>\n",
       "      <td>0</td>\n",
       "      <td>0</td>\n",
       "      <td>1</td>\n",
       "      <td>0</td>\n",
       "    </tr>\n",
       "    <tr>\n",
       "      <th>2</th>\n",
       "      <td>No Urgent Place</td>\n",
       "      <td>Friend(s)</td>\n",
       "      <td>Sunny</td>\n",
       "      <td>80</td>\n",
       "      <td>10AM</td>\n",
       "      <td>Carry out &amp; Take away</td>\n",
       "      <td>2h</td>\n",
       "      <td>Female</td>\n",
       "      <td>21</td>\n",
       "      <td>Unmarried partner</td>\n",
       "      <td>...</td>\n",
       "      <td>never</td>\n",
       "      <td>NaN</td>\n",
       "      <td>4~8</td>\n",
       "      <td>1~3</td>\n",
       "      <td>1</td>\n",
       "      <td>1</td>\n",
       "      <td>0</td>\n",
       "      <td>0</td>\n",
       "      <td>1</td>\n",
       "      <td>1</td>\n",
       "    </tr>\n",
       "    <tr>\n",
       "      <th>3</th>\n",
       "      <td>No Urgent Place</td>\n",
       "      <td>Friend(s)</td>\n",
       "      <td>Sunny</td>\n",
       "      <td>80</td>\n",
       "      <td>2PM</td>\n",
       "      <td>Coffee House</td>\n",
       "      <td>2h</td>\n",
       "      <td>Female</td>\n",
       "      <td>21</td>\n",
       "      <td>Unmarried partner</td>\n",
       "      <td>...</td>\n",
       "      <td>never</td>\n",
       "      <td>NaN</td>\n",
       "      <td>4~8</td>\n",
       "      <td>1~3</td>\n",
       "      <td>1</td>\n",
       "      <td>1</td>\n",
       "      <td>0</td>\n",
       "      <td>0</td>\n",
       "      <td>1</td>\n",
       "      <td>0</td>\n",
       "    </tr>\n",
       "    <tr>\n",
       "      <th>4</th>\n",
       "      <td>No Urgent Place</td>\n",
       "      <td>Friend(s)</td>\n",
       "      <td>Sunny</td>\n",
       "      <td>80</td>\n",
       "      <td>2PM</td>\n",
       "      <td>Coffee House</td>\n",
       "      <td>1d</td>\n",
       "      <td>Female</td>\n",
       "      <td>21</td>\n",
       "      <td>Unmarried partner</td>\n",
       "      <td>...</td>\n",
       "      <td>never</td>\n",
       "      <td>NaN</td>\n",
       "      <td>4~8</td>\n",
       "      <td>1~3</td>\n",
       "      <td>1</td>\n",
       "      <td>1</td>\n",
       "      <td>0</td>\n",
       "      <td>0</td>\n",
       "      <td>1</td>\n",
       "      <td>0</td>\n",
       "    </tr>\n",
       "  </tbody>\n",
       "</table>\n",
       "<p>5 rows × 26 columns</p>\n",
       "</div>"
      ],
      "text/plain": [
       "       destination  passanger weather  temperature  time  \\\n",
       "0  No Urgent Place      Alone   Sunny           55   2PM   \n",
       "1  No Urgent Place  Friend(s)   Sunny           80  10AM   \n",
       "2  No Urgent Place  Friend(s)   Sunny           80  10AM   \n",
       "3  No Urgent Place  Friend(s)   Sunny           80   2PM   \n",
       "4  No Urgent Place  Friend(s)   Sunny           80   2PM   \n",
       "\n",
       "                  coupon expiration  gender age      maritalStatus  ...  \\\n",
       "0        Restaurant(<20)         1d  Female  21  Unmarried partner  ...   \n",
       "1           Coffee House         2h  Female  21  Unmarried partner  ...   \n",
       "2  Carry out & Take away         2h  Female  21  Unmarried partner  ...   \n",
       "3           Coffee House         2h  Female  21  Unmarried partner  ...   \n",
       "4           Coffee House         1d  Female  21  Unmarried partner  ...   \n",
       "\n",
       "   CoffeeHouse CarryAway RestaurantLessThan20 Restaurant20To50  \\\n",
       "0        never       NaN                  4~8              1~3   \n",
       "1        never       NaN                  4~8              1~3   \n",
       "2        never       NaN                  4~8              1~3   \n",
       "3        never       NaN                  4~8              1~3   \n",
       "4        never       NaN                  4~8              1~3   \n",
       "\n",
       "  toCoupon_GEQ5min toCoupon_GEQ15min toCoupon_GEQ25min direction_same  \\\n",
       "0                1                 0                 0              0   \n",
       "1                1                 0                 0              0   \n",
       "2                1                 1                 0              0   \n",
       "3                1                 1                 0              0   \n",
       "4                1                 1                 0              0   \n",
       "\n",
       "  direction_opp  Y  \n",
       "0             1  1  \n",
       "1             1  0  \n",
       "2             1  1  \n",
       "3             1  0  \n",
       "4             1  0  \n",
       "\n",
       "[5 rows x 26 columns]"
      ]
     },
     "execution_count": 4,
     "metadata": {},
     "output_type": "execute_result"
    }
   ],
   "source": [
    "data.head()"
   ]
  },
  {
   "cell_type": "markdown",
   "metadata": {
    "id": "GcDs78ZH_qRH"
   },
   "source": [
    "2. Investigate the dataset for missing or problematic data."
   ]
  },
  {
   "cell_type": "code",
   "execution_count": 5,
   "metadata": {
    "id": "6CwL6oWj_qRH"
   },
   "outputs": [
    {
     "name": "stdout",
     "output_type": "stream",
     "text": [
      "<class 'pandas.core.frame.DataFrame'>\n",
      "RangeIndex: 12684 entries, 0 to 12683\n",
      "Data columns (total 26 columns):\n",
      " #   Column                Non-Null Count  Dtype \n",
      "---  ------                --------------  ----- \n",
      " 0   destination           12684 non-null  object\n",
      " 1   passanger             12684 non-null  object\n",
      " 2   weather               12684 non-null  object\n",
      " 3   temperature           12684 non-null  int64 \n",
      " 4   time                  12684 non-null  object\n",
      " 5   coupon                12684 non-null  object\n",
      " 6   expiration            12684 non-null  object\n",
      " 7   gender                12684 non-null  object\n",
      " 8   age                   12684 non-null  object\n",
      " 9   maritalStatus         12684 non-null  object\n",
      " 10  has_children          12684 non-null  int64 \n",
      " 11  education             12684 non-null  object\n",
      " 12  occupation            12684 non-null  object\n",
      " 13  income                12684 non-null  object\n",
      " 14  car                   108 non-null    object\n",
      " 15  Bar                   12577 non-null  object\n",
      " 16  CoffeeHouse           12467 non-null  object\n",
      " 17  CarryAway             12533 non-null  object\n",
      " 18  RestaurantLessThan20  12554 non-null  object\n",
      " 19  Restaurant20To50      12495 non-null  object\n",
      " 20  toCoupon_GEQ5min      12684 non-null  int64 \n",
      " 21  toCoupon_GEQ15min     12684 non-null  int64 \n",
      " 22  toCoupon_GEQ25min     12684 non-null  int64 \n",
      " 23  direction_same        12684 non-null  int64 \n",
      " 24  direction_opp         12684 non-null  int64 \n",
      " 25  Y                     12684 non-null  int64 \n",
      "dtypes: int64(8), object(18)\n",
      "memory usage: 2.5+ MB\n"
     ]
    },
    {
     "data": {
      "text/plain": [
       "destination                 0\n",
       "passanger                   0\n",
       "weather                     0\n",
       "temperature                 0\n",
       "time                        0\n",
       "coupon                      0\n",
       "expiration                  0\n",
       "gender                      0\n",
       "age                         0\n",
       "maritalStatus               0\n",
       "has_children                0\n",
       "education                   0\n",
       "occupation                  0\n",
       "income                      0\n",
       "car                     12576\n",
       "Bar                       107\n",
       "CoffeeHouse               217\n",
       "CarryAway                 151\n",
       "RestaurantLessThan20      130\n",
       "Restaurant20To50          189\n",
       "toCoupon_GEQ5min            0\n",
       "toCoupon_GEQ15min           0\n",
       "toCoupon_GEQ25min           0\n",
       "direction_same              0\n",
       "direction_opp               0\n",
       "Y                           0\n",
       "dtype: int64"
      ]
     },
     "execution_count": 5,
     "metadata": {},
     "output_type": "execute_result"
    }
   ],
   "source": [
    "# Get column and type\n",
    "data.info()\n",
    "data.isnull().sum()"
   ]
  },
  {
   "cell_type": "markdown",
   "metadata": {
    "id": "bSdVSpYB_qRH"
   },
   "source": [
    "3. Decide what to do about your missing data -- drop, replace, other..."
   ]
  },
  {
   "cell_type": "code",
   "execution_count": 6,
   "metadata": {
    "id": "tyvoAC5F_qRI"
   },
   "outputs": [
    {
     "data": {
      "text/plain": [
       "destination             0\n",
       "passanger               0\n",
       "weather                 0\n",
       "temperature             0\n",
       "time                    0\n",
       "coupon                  0\n",
       "expiration              0\n",
       "gender                  0\n",
       "age                     0\n",
       "maritalStatus           0\n",
       "has_children            0\n",
       "education               0\n",
       "occupation              0\n",
       "income                  0\n",
       "Bar                     0\n",
       "CoffeeHouse             0\n",
       "CarryAway               0\n",
       "RestaurantLessThan20    0\n",
       "Restaurant20To50        0\n",
       "toCoupon_GEQ5min        0\n",
       "toCoupon_GEQ15min       0\n",
       "toCoupon_GEQ25min       0\n",
       "direction_same          0\n",
       "direction_opp           0\n",
       "Y                       0\n",
       "dtype: int64"
      ]
     },
     "metadata": {},
     "output_type": "display_data"
    }
   ],
   "source": [
    "data.shape\n",
    "# data['car'].value_counts()\n",
    "# total 12684 row, we need to start clean data\n",
    "# First is car, the missing value will be 12576\n",
    "# I prefer to drop this column, since it does not have enough data to show relationship with coupoin acceptance \n",
    "data = data.copy()\n",
    "data = data.drop('car', axis=1)\n",
    "data.head(1)\n",
    "data.isnull().sum()\n",
    "# Deal with Bar\n",
    "data['Bar'].unique()\n",
    "# Since value of Bar will be never', 'less1', '1~3', 'gt8', nan, '4~8', I plan to fill mode value\n",
    "bar_mode = data['Bar'].mode()[0]\n",
    "data['Bar'] = data['Bar'].fillna(bar_mode)\n",
    "data['Bar'].value_counts()\n",
    "# Similarly for CoffeeHouse, CarryAway, RestaurantLessThan20, Restaurant20To50\n",
    "data['CoffeeHouse'] = data['CoffeeHouse'].fillna(data['CoffeeHouse'].mode()[0])\n",
    "data['CarryAway'] = data['CarryAway'].fillna(data['CarryAway'].mode()[0])\n",
    "data['RestaurantLessThan20'] = data['RestaurantLessThan20'].fillna(data['RestaurantLessThan20'].mode()[0])\n",
    "data['Restaurant20To50'] = data['Restaurant20To50'].fillna(data['Restaurant20To50'].mode()[0])\n",
    "display(data.isnull().sum())"
   ]
  },
  {
   "cell_type": "markdown",
   "metadata": {
    "id": "YE6oJbXd_qRI"
   },
   "source": [
    "4. What proportion of the total observations chose to accept the coupon?\n",
    "\n"
   ]
  },
  {
   "cell_type": "code",
   "execution_count": 7,
   "metadata": {
    "id": "86GGqBTv_qRI"
   },
   "outputs": [
    {
     "name": "stdout",
     "output_type": "stream",
     "text": [
      "Coupon acceptance rate: 56.8%\n"
     ]
    }
   ],
   "source": [
    "# To get proportion of total obervations chose to accept the coupon, \n",
    "# need to caluate Y column's prcentage of value = 1\n",
    "coupon_accept_rate = data['Y'].value_counts(normalize=True)\n",
    "accept_rate = coupon_accept_rate[1] * 100\n",
    "print(f\"Coupon acceptance rate: {accept_rate:.1f}%\")\n",
    "# The acceptance rate is 56.8%\n"
   ]
  },
  {
   "cell_type": "markdown",
   "metadata": {
    "id": "vflz0DoE_qRI"
   },
   "source": [
    "5. Use a bar plot to visualize the `coupon` column."
   ]
  },
  {
   "cell_type": "code",
   "execution_count": 8,
   "metadata": {
    "id": "dHFh3E45_qRI"
   },
   "outputs": [
    {
     "data": {
      "image/png": "[encoded data removed]",
      "text/plain": [
       "<Figure size 1000x600 with 1 Axes>"
      ]
     },
     "metadata": {},
     "output_type": "display_data"
    }
   ],
   "source": [
    "# Use sns bar plot to visualize the coupon column.\n",
    "# x will be coupoin type, y will be count\n",
    "plt.figure(figsize=(10, 6))\n",
    "# Use a bar plot to visualize the coupon column\n",
    "sns.barplot(x=data['coupon'].value_counts().index, y=data['coupon'].value_counts().values)\n",
    "plt.xlabel('Coupon Type')\n",
    "plt.ylabel('Count')\n",
    "plt.title('Coupon Distribution')\n",
    "plt.show()"
   ]
  },
  {
   "cell_type": "markdown",
   "metadata": {
    "id": "Qw4lCyx2_qRI"
   },
   "source": [
    "6. Use a histogram to visualize the temperature column."
   ]
  },
  {
   "cell_type": "code",
   "execution_count": 9,
   "metadata": {
    "id": "Yg9Anv71_qRI"
   },
   "outputs": [
    {
     "data": {
      "text/plain": [
       "temperature\n",
       "30    2316\n",
       "55    3840\n",
       "80    6528\n",
       "Name: count, dtype: int64"
      ]
     },
     "metadata": {},
     "output_type": "display_data"
    },
    {
     "data": {
      "image/png": "[encoded data removed]",
      "text/plain": [
       "<Figure size 640x480 with 1 Axes>"
      ]
     },
     "metadata": {},
     "output_type": "display_data"
    }
   ],
   "source": [
    "# Get value for 'temperature'\n",
    "display(data['temperature'].value_counts().sort_index())\n",
    "# Since it only have 3 values, put into 5 bin\n",
    "sns.histplot(data['temperature'], bins=5, kde=True)\n",
    "plt.xlabel('Temperature')\n",
    "plt.ylabel('Frequency')\n",
    "plt.title('Temperature Distribution')\n",
    "plt.show()"
   ]
  },
  {
   "cell_type": "code",
   "execution_count": null,
   "metadata": {
    "id": "zLtOaJQk_qRI"
   },
   "outputs": [],
   "source": []
  },
  {
   "cell_type": "code",
   "execution_count": null,
   "metadata": {
    "id": "7GBHZKBp_qRJ"
   },
   "outputs": [],
   "source": []
  },
  {
   "cell_type": "code",
   "execution_count": null,
   "metadata": {
    "id": "Y5nBUA-j_qRJ"
   },
   "outputs": [],
   "source": []
  },
  {
   "cell_type": "code",
   "execution_count": null,
   "metadata": {
    "id": "ShcUC-Vm_qRJ"
   },
   "outputs": [],
   "source": []
  },
  {
   "cell_type": "markdown",
   "metadata": {
    "id": "FupfgeJk_qRJ"
   },
   "source": [
    "**Investigating the Bar Coupons**\n",
    "\n",
    "Now, we will lead you through an exploration of just the bar related coupons.  \n",
    "\n",
    "1. Create a new `DataFrame` that contains just the bar coupons.\n"
   ]
  },
  {
   "cell_type": "code",
   "execution_count": 10,
   "metadata": {
    "id": "tMBlWuGq_qRJ"
   },
   "outputs": [
    {
     "name": "stdout",
     "output_type": "stream",
     "text": [
      "coupon\n",
      "Coffee House             3996\n",
      "Restaurant(<20)          2786\n",
      "Carry out & Take away    2393\n",
      "Bar                      2017\n",
      "Restaurant(20-50)        1492\n",
      "Name: count, dtype: int64\n"
     ]
    },
    {
     "data": {
      "text/html": [
       "<div>\n",
       "<style scoped>\n",
       "    .dataframe tbody tr th:only-of-type {\n",
       "        vertical-align: middle;\n",
       "    }\n",
       "\n",
       "    .dataframe tbody tr th {\n",
       "        vertical-align: top;\n",
       "    }\n",
       "\n",
       "    .dataframe thead th {\n",
       "        text-align: right;\n",
       "    }\n",
       "</style>\n",
       "<table border=\"1\" class=\"dataframe\">\n",
       "  <thead>\n",
       "    <tr style=\"text-align: right;\">\n",
       "      <th></th>\n",
       "      <th>destination</th>\n",
       "      <th>passanger</th>\n",
       "      <th>weather</th>\n",
       "      <th>temperature</th>\n",
       "      <th>time</th>\n",
       "      <th>coupon</th>\n",
       "      <th>expiration</th>\n",
       "      <th>gender</th>\n",
       "      <th>age</th>\n",
       "      <th>maritalStatus</th>\n",
       "      <th>...</th>\n",
       "      <th>CoffeeHouse</th>\n",
       "      <th>CarryAway</th>\n",
       "      <th>RestaurantLessThan20</th>\n",
       "      <th>Restaurant20To50</th>\n",
       "      <th>toCoupon_GEQ5min</th>\n",
       "      <th>toCoupon_GEQ15min</th>\n",
       "      <th>toCoupon_GEQ25min</th>\n",
       "      <th>direction_same</th>\n",
       "      <th>direction_opp</th>\n",
       "      <th>Y</th>\n",
       "    </tr>\n",
       "  </thead>\n",
       "  <tbody>\n",
       "    <tr>\n",
       "      <th>2240</th>\n",
       "      <td>Home</td>\n",
       "      <td>Alone</td>\n",
       "      <td>Sunny</td>\n",
       "      <td>55</td>\n",
       "      <td>6PM</td>\n",
       "      <td>Bar</td>\n",
       "      <td>1d</td>\n",
       "      <td>Female</td>\n",
       "      <td>26</td>\n",
       "      <td>Married partner</td>\n",
       "      <td>...</td>\n",
       "      <td>less1</td>\n",
       "      <td>gt8</td>\n",
       "      <td>4~8</td>\n",
       "      <td>never</td>\n",
       "      <td>1</td>\n",
       "      <td>0</td>\n",
       "      <td>0</td>\n",
       "      <td>1</td>\n",
       "      <td>0</td>\n",
       "      <td>0</td>\n",
       "    </tr>\n",
       "    <tr>\n",
       "      <th>10952</th>\n",
       "      <td>No Urgent Place</td>\n",
       "      <td>Friend(s)</td>\n",
       "      <td>Sunny</td>\n",
       "      <td>55</td>\n",
       "      <td>10PM</td>\n",
       "      <td>Bar</td>\n",
       "      <td>2h</td>\n",
       "      <td>Female</td>\n",
       "      <td>31</td>\n",
       "      <td>Married partner</td>\n",
       "      <td>...</td>\n",
       "      <td>less1</td>\n",
       "      <td>gt8</td>\n",
       "      <td>4~8</td>\n",
       "      <td>less1</td>\n",
       "      <td>1</td>\n",
       "      <td>1</td>\n",
       "      <td>0</td>\n",
       "      <td>0</td>\n",
       "      <td>1</td>\n",
       "      <td>0</td>\n",
       "    </tr>\n",
       "  </tbody>\n",
       "</table>\n",
       "<p>2 rows × 25 columns</p>\n",
       "</div>"
      ],
      "text/plain": [
       "           destination  passanger weather  temperature  time coupon  \\\n",
       "2240              Home      Alone   Sunny           55   6PM    Bar   \n",
       "10952  No Urgent Place  Friend(s)   Sunny           55  10PM    Bar   \n",
       "\n",
       "      expiration  gender age    maritalStatus  ...  CoffeeHouse CarryAway  \\\n",
       "2240          1d  Female  26  Married partner  ...        less1       gt8   \n",
       "10952         2h  Female  31  Married partner  ...        less1       gt8   \n",
       "\n",
       "      RestaurantLessThan20 Restaurant20To50 toCoupon_GEQ5min  \\\n",
       "2240                   4~8            never                1   \n",
       "10952                  4~8            less1                1   \n",
       "\n",
       "      toCoupon_GEQ15min toCoupon_GEQ25min direction_same direction_opp  Y  \n",
       "2240                  0                 0              1             0  0  \n",
       "10952                 1                 0              0             1  0  \n",
       "\n",
       "[2 rows x 25 columns]"
      ]
     },
     "execution_count": 10,
     "metadata": {},
     "output_type": "execute_result"
    }
   ],
   "source": [
    "print(data['coupon'].value_counts())\n",
    "df_bar = data[data['coupon'] == 'Bar']\n",
    "df_bar.sample(2)"
   ]
  },
  {
   "cell_type": "markdown",
   "metadata": {
    "id": "8ue6uCqf_qRJ"
   },
   "source": [
    "2. What proportion of bar coupons were accepted?\n"
   ]
  },
  {
   "cell_type": "code",
   "execution_count": 11,
   "metadata": {
    "id": "hSdte8Mi_qRK"
   },
   "outputs": [
    {
     "name": "stdout",
     "output_type": "stream",
     "text": [
      "41.00148735746158\n"
     ]
    }
   ],
   "source": [
    "accept_arr = df_bar['Y'].value_counts(normalize=True)\n",
    "accept_rate = accept_arr[1] * 100\n",
    "print(accept_rate)\n",
    "# Accept rate for bar coupon is 41%"
   ]
  },
  {
   "cell_type": "markdown",
   "metadata": {
    "id": "85nA_iEi_qRK"
   },
   "source": [
    "3. Compare the acceptance rate between those who went to a bar 3 or fewer times a month to those who went more.\n"
   ]
  },
  {
   "cell_type": "code",
   "execution_count": 12,
   "metadata": {
    "id": "LBOrN-XM_qRK"
   },
   "outputs": [
    {
     "name": "stdout",
     "output_type": "stream",
     "text": [
      "Bar\n",
      "never    851\n",
      "less1    570\n",
      "1~3      397\n",
      "4~8      150\n",
      "gt8       49\n",
      "Name: count, dtype: int64\n",
      "acceptance rate for who went to a bar 3 or fewer is 37%\n",
      "acceptance rate for who went to more than 3 is 77%\n"
     ]
    }
   ],
   "source": [
    "print(df_bar['Bar'].value_counts())\n",
    "# Caculate acceptance rate for vising 3 times or less in a month\n",
    "group_with_less_visit = df_bar[df_bar['Bar'].isin(['never', 'less1', '1~3'])]\n",
    "group_with_less_visit_accept_rate = group_with_less_visit['Y'].value_counts(normalize=True)[1] * 100\n",
    "# Caculate acceptance rate for vising more than 3 times\n",
    "group_with_more_visit = df_bar[df_bar['Bar'].isin(['4~8', 'gt8'])]\n",
    "group_with_more_visit_accept_rate = group_with_more_visit['Y'].value_counts(normalize=True)[1] * 100\n",
    "# print result\n",
    "print(f\"acceptance rate for who went to a bar 3 or fewer is {group_with_less_visit_accept_rate:.0f}%\")\n",
    "print(f\"acceptance rate for who went to more than 3 is {group_with_more_visit_accept_rate:.0f}%\")"
   ]
  },
  {
   "cell_type": "markdown",
   "metadata": {
    "id": "RBgcQwH4_qRK"
   },
   "source": [
    "4. Compare the acceptance rate between drivers who go to a bar more than once a month and are over the age of 25 to the all others.  Is there a difference?\n"
   ]
  },
  {
   "cell_type": "code",
   "execution_count": 17,
   "metadata": {
    "id": "bf28bbeX_qRK"
   },
   "outputs": [
    {
     "name": "stdout",
     "output_type": "stream",
     "text": [
      "age\n",
      "21         417\n",
      "26         395\n",
      "31         339\n",
      "50plus     283\n",
      "36         209\n",
      "41         178\n",
      "46         109\n",
      "below21     87\n",
      "Name: count, dtype: int64\n",
      "Acceptance rate for drivers who go to a bar more than once a month and are over the age of 25 is 70%\n",
      "Acceptance rate for drivers who go to a bar more than once a month and are not over the age of 25 is 67%\n"
     ]
    }
   ],
   "source": [
    "# Get age value\n",
    "print(df_bar['age'].value_counts())\n",
    "# Since age is object, need to typecast to int, but it has value as below21 and 50plus, I need to map manually\n",
    "age_mapping = {\n",
    "    'below21': 20,  # Map 'below21' to 20\n",
    "    '21': 21,\n",
    "    '26': 26,\n",
    "    '31': 31,\n",
    "    '36': 36,\n",
    "    '41': 41,\n",
    "    '46': 46,\n",
    "    '50plus': 51  # Assume '50plus' is mapped to 51 \n",
    "}\n",
    "df_bar.loc[:,'age_numeric'] = df_bar['age'].map(age_mapping)\n",
    "group_bar_more_than_once_and_over_25 = df_bar[df_bar['Bar'].isin(['1~3', '4~8', 'gt8']) & (df_bar['age_numeric'] > 25)]\n",
    "accept_rate_for_bar_more_than_once_and_over_25 = group_bar_more_than_once_and_over_25['Y'].value_counts(normalize=True)[1] * 100\n",
    "print(f\"Acceptance rate for drivers who go to a bar more than once a month and are over the age of 25 is {accept_rate_for_bar_more_than_once_and_over_25:.0f}%\")\n",
    "# Work on others e.g go to bar once but age is less or equal to 25\n",
    "group_bar_more_than_once_and_others = df_bar[df_bar['Bar'].isin(['1~3', '4~8', 'gt8']) & (df_bar['age_numeric'] <= 25)]\n",
    "accept_rate_for_bar_more_than_once_and_others = group_bar_more_than_once_and_others['Y'].value_counts(normalize=True)[1] * 100\n",
    "print(f\"Acceptance rate for drivers who go to a bar more than once a month and are not over the age of 25 is {accept_rate_for_bar_more_than_once_and_others:.0f}%\")"
   ]
  },
  {
   "cell_type": "markdown",
   "metadata": {
    "id": "S4RKT4PJ_qRK"
   },
   "source": [
    "5. Use the same process to compare the acceptance rate between drivers who go to bars more than once a month and had passengers that were not a kid and had occupations other than farming, fishing, or forestry.\n"
   ]
  },
  {
   "cell_type": "code",
   "execution_count": 18,
   "metadata": {
    "id": "sENaI2Tg_qRK"
   },
   "outputs": [
    {
     "name": "stdout",
     "output_type": "stream",
     "text": [
      "accept rate for drivers who go to bars more than once a month is 69%\n",
      "accept rate for drivers who had passengers that were not a kid is 43%\n",
      "accept rate for drivers who had occpupations other than farming, fishing or foresty is 41%\n"
     ]
    }
   ],
   "source": [
    "# Copy data\n",
    "df_5 = df_bar.copy()\n",
    "# Driver go to bar more than once\n",
    "df_5_bar_more_than_once = df_5[df_5['Bar'].isin(['1~3', '4~8', 'gt8'])]\n",
    "# Driver had passageners that were not a kid\n",
    "# print(df_5['passanger'].unique())\n",
    "df_5_not_kid = df_5[df_5['passanger'] != 'Kid(s)']\n",
    "# Driver had occoupations other than farming, fishing or forestry\n",
    "# print(df_5['occupation'].unique())\n",
    "df_5_not_farming_fishing_forestry = df_5[df_5['occupation'] != 'Farming Fishing & Forestry']\n",
    "# Campre rate\n",
    "accept_rate_more_than_once = df_5_bar_more_than_once['Y'].mean() * 100\n",
    "accept_rate_not_kid = df_5_not_kid['Y'].mean() * 100\n",
    "accept_rate_not_farming_fishing_forestry = df_5_not_farming_fishing_forestry['Y'].mean() * 100\n",
    "print(f'accept rate for drivers who go to bars more than once a month is {accept_rate_more_than_once:.0f}%')\n",
    "print(f'accept rate for drivers who had passengers that were not a kid is {accept_rate_not_kid:.0f}%')\n",
    "print(f'accept rate for drivers who had occpupations other than farming, fishing or foresty is {accept_rate_not_farming_fishing_forestry:.0f}%')\n"
   ]
  },
  {
   "cell_type": "markdown",
   "metadata": {
    "id": "n2LIUTil_qRK"
   },
   "source": [
    "6. Compare the acceptance rates between those drivers who:\n",
    "\n",
    "- go to bars more than once a month, had passengers that were not a kid, and were not widowed *OR*\n",
    "- go to bars more than once a month and are under the age of 30 *OR*\n",
    "- go to cheap restaurants more than 4 times a month and income is less than 50K.\n",
    "\n"
   ]
  },
  {
   "cell_type": "code",
   "execution_count": 19,
   "metadata": {
    "id": "aK_wEzx7_qRK",
    "scrolled": true
   },
   "outputs": [
    {
     "name": "stdout",
     "output_type": "stream",
     "text": [
      "['Unmarried partner' 'Single' 'Married partner' 'Divorced' 'Widowed']\n",
      "['4~8' '1~3' 'less1' 'gt8' 'never']\n",
      "['$37500 - $49999' '$62500 - $74999' '$12500 - $24999' '$75000 - $87499'\n",
      " '$50000 - $62499' '$25000 - $37499' '$100000 or More' '$87500 - $99999'\n",
      " 'Less than $12500']\n",
      "accept rate for go to bars more than once a month, had passengers that were not a kid, and were not widowed is 71%\n",
      "accept rate for go to bars more than once a month and are under the age of 30 is 72%\n",
      "accept rate for go to cheap restaurants more than 4 times a month and income is less than 50K is 49%\n"
     ]
    }
   ],
   "source": [
    "df_6 = df_bar.copy()\n",
    "# apply age mapping\n",
    "age_mapping = {\n",
    "    'below21': 20,  # Map 'below21' to 20\n",
    "    '21': 21,\n",
    "    '26': 26,\n",
    "    '31': 31,\n",
    "    '36': 36,\n",
    "    '41': 41,\n",
    "    '46': 46,\n",
    "    '50plus': 51  # Assume '50plus' is mapped to 51\n",
    "}\n",
    "df_6.loc[:,'age_numeric'] = df_6['age'].map(age_mapping)\n",
    "# Get go to bars more than once a month, had passengers that were not a kid, and were not widowed\n",
    "print(df_6['maritalStatus'].unique())\n",
    "df_6_bar_more_than_once_not_kid_not_widowed = df_6[(df_6['Bar'].isin(['1~3', '4~8', 'gt8'])) & (df_6['passanger'] != 'Kid(s)') & (df_6['maritalStatus'] != 'Widowed')]\n",
    "# Get go to bars more than once a month and are under the age of 30 OR\n",
    "df_6_bar_more_than_once_under_30 = df_6[(df_6['Bar'].isin(['1~3', '4~8', 'gt8']) & (df_6['age_numeric'] < 30))]\n",
    "# Get go to cheap restaurants more than 4 times a month and income is less than 50K.\n",
    "print(df_6['RestaurantLessThan20'].unique())\n",
    "print(df_6['income'].unique())\n",
    "df_6_cheap_restaurant_more_than_4_income_less_than_50k = df_6[(df_6['RestaurantLessThan20'].isin(['4~8', 'gt8'])) & (df_6['income'].isin(['$37500 - $49999']))]\n",
    "accept_rate_more_than_once_not_kid_not_widowed = df_6_bar_more_than_once_not_kid_not_widowed['Y'].mean() * 100\n",
    "accept_rate_more_than_once_under_30 = df_6_bar_more_than_once_under_30['Y'].mean() * 100\n",
    "accept_rate_cheap_restaurant_more_than_4_income_less_than_50k = df_6_cheap_restaurant_more_than_4_income_less_than_50k['Y'].mean() * 100\n",
    "print(f'accept rate for go to bars more than once a month, had passengers that were not a kid, and were not widowed is {accept_rate_more_than_once_not_kid_not_widowed:.0f}%')\n",
    "print(f'accept rate for go to bars more than once a month and are under the age of 30 is {accept_rate_more_than_once_under_30:.0f}%')\n",
    "print(f'accept rate for go to cheap restaurants more than 4 times a month and income is less than 50K is {accept_rate_cheap_restaurant_more_than_4_income_less_than_50k:.0f}%')\n"
   ]
  },
  {
   "cell_type": "markdown",
   "metadata": {
    "id": "v3fL3QkO_qRK"
   },
   "source": [
    "7.  Based on these observations, what do you hypothesize about drivers who accepted the bar coupons?"
   ]
  },
  {
   "cell_type": "code",
   "execution_count": 20,
   "metadata": {
    "id": "Y48naDFh_qRL"
   },
   "outputs": [
    {
     "name": "stdout",
     "output_type": "stream",
     "text": [
      "\n",
      "My hypothesis is that:\n",
      "1. Drivers who frequently go to bars are much more likely to accept bar coupons. Regular bar-goers seem to be the primary target audience for bar coupons.\n",
      "2. Age is not a major factor in coupon acceptance; both younger and older adults show similar acceptance rates.\n",
      "3. Occupation plays a role in coupon acceptance, possibly linked to lifestyle or social habits. Drivers in non-manual labor occupations might be less inclined to accept bar coupons, though further analysis would be needed.\n",
      "4. Drivers with fewer family or social constraints (no kids, not widowed) are more likely to accept bar coupons.\n",
      "5. Younger adults (under 30) are slightly more receptive to bar coupons.\n",
      "6. Price-sensitive drivers who frequently eat out at cheap restaurants are moderately likely to accept bar coupons.\n",
      "Therefore, Frequent bar-goers are the most likely to accept bar coupons, especially when they are under 30 and have no family-related constraints (e.g., no kids).\n",
      "Social context (presence of passengers, occupation) and lifestyle factors (restaurant visits and income) also play a role, though they appear to have a more moderate impact compared to bar-going frequency.\n",
      "Younger adults and those with a socially active lifestyle are strong candidates for bar coupons.\n",
      "\n"
     ]
    }
   ],
   "source": [
    "print(f\"\"\"\n",
    "My hypothesis is that:\n",
    "1. Drivers who frequently go to bars are much more likely to accept bar coupons. Regular bar-goers seem to be the primary target audience for bar coupons.\n",
    "2. Age is not a major factor in coupon acceptance; both younger and older adults show similar acceptance rates.\n",
    "3. Occupation plays a role in coupon acceptance, possibly linked to lifestyle or social habits. Drivers in non-manual labor occupations might be less inclined to accept bar coupons, though further analysis would be needed.\n",
    "4. Drivers with fewer family or social constraints (no kids, not widowed) are more likely to accept bar coupons.\n",
    "5. Younger adults (under 30) are slightly more receptive to bar coupons.\n",
    "6. Price-sensitive drivers who frequently eat out at cheap restaurants are moderately likely to accept bar coupons.\n",
    "Therefore, Frequent bar-goers are the most likely to accept bar coupons, especially when they are under 30 and have no family-related constraints (e.g., no kids).\n",
    "Social context (presence of passengers, occupation) and lifestyle factors (restaurant visits and income) also play a role, though they appear to have a more moderate impact compared to bar-going frequency.\n",
    "Younger adults and those with a socially active lifestyle are strong candidates for bar coupons.\n",
    "\"\"\")"
   ]
  },
  {
   "cell_type": "markdown",
   "metadata": {
    "id": "r4Hu1zOb_qRL"
   },
   "source": [
    "### Independent Investigation\n",
    "\n",
    "Using the bar coupon example as motivation, you are to explore one of the other coupon groups and try to determine the characteristics of passengers who accept the coupons.  \n",
    "\n",
    "- I will using similar way to analysis carry out and take-away coupon acceptance rate for different group "
   ]
  },
  {
   "cell_type": "code",
   "execution_count": 26,
   "metadata": {
    "id": "0c71cQhu_qRL"
   },
   "outputs": [
    {
     "name": "stdout",
     "output_type": "stream",
     "text": [
      "['Restaurant(<20)' 'Coffee House' 'Carry out & Take away' 'Bar'\n",
      " 'Restaurant(20-50)']\n",
      "accept rate for age is less than 30 is 74%\n",
      "accept rate for age is more than 50 is 75%\n",
      "accept rate for age is more than 60 is 77%\n"
     ]
    },
    {
     "data": {
      "image/png": "[encoded data removed]",
      "text/plain": [
       "<Figure size 640x480 with 1 Axes>"
      ]
     },
     "metadata": {},
     "output_type": "display_data"
    }
   ],
   "source": [
    "# setup df for coupon is \n",
    "print(data['coupon'].unique())\n",
    "df_carry = data[data['coupon'] == 'Carry out & Take away'].copy()\n",
    "# First see accept rate for age is less than 30 and beyond\n",
    "age_mapping = {\n",
    "    'below21': 20,  # Map 'below21' to 20\n",
    "    '21': 21,\n",
    "    '26': 26,\n",
    "    '31': 31,\n",
    "    '36': 36,\n",
    "    '41': 41,\n",
    "    '46': 46,\n",
    "    '50plus': 51  # Assume '50plus' is mapped to 51\n",
    "}\n",
    "df_carry.loc[:,'age_numeric'] = df_carry['age'].map(age_mapping)\n",
    "df_carry_less_than_30 = df_carry[df_carry['age_numeric'] < 30]\n",
    "accept_rate_df_carry_less_than_30 = df_carry_less_than_30['Y'].mean() * 100\n",
    "df_carry_more_than_40 = df_carry[df_carry['age_numeric'] >= 40]\n",
    "df_carry_more_than_50 = df_carry[df_carry['age_numeric'] >= 50]\n",
    "accept_rate_df_carry_more_than_40 = df_carry_more_than_40['Y'].mean() * 100\n",
    "accept_rate_df_carry_more_than_50 = df_carry_more_than_50['Y'].mean() * 100\n",
    "print(f'accept rate for age is less than 30 is {accept_rate_df_carry_less_than_30:.0f}%')\n",
    "print(f'accept rate for age is more than 50 is {accept_rate_df_carry_more_than_40:.0f}%')\n",
    "print(f'accept rate for age is more than 60 is {accept_rate_df_carry_more_than_50:.0f}%')\n",
    "# bar plot x is age, y is count for accept the coupon\n",
    "sns.barplot(x='age', y = 'Y', data=df_carry)\n",
    "plt.xlabel('Age')\n",
    "plt.ylabel('Accept rate')\n",
    "plt.title('Age Distribution for carry out coupoin acceptance rate')\n",
    "plt.show()"
   ]
  },
  {
   "cell_type": "code",
   "execution_count": null,
   "metadata": {
    "id": "QEsBkvIN_qRL"
   },
   "outputs": [],
   "source": []
  },
  {
   "cell_type": "code",
   "execution_count": null,
   "metadata": {
    "id": "fTC2WGE3_qRL"
   },
   "outputs": [],
   "source": []
  },
  {
   "cell_type": "code",
   "execution_count": null,
   "metadata": {
    "id": "RrqUWn7d_qRL"
   },
   "outputs": [],
   "source": []
  },
  {
   "cell_type": "code",
   "execution_count": null,
   "metadata": {
    "id": "_oykf8YP_qRL"
   },
   "outputs": [],
   "source": []
  }
 ],
 "metadata": {
  "colab": {
   "provenance": []
  },
  "kernelspec": {
   "display_name": "Python 3 (ipykernel)",
   "language": "python",
   "name": "python3"
  },
  "language_info": {
   "codemirror_mode": {
    "name": "ipython",
    "version": 3
   },
   "file_extension": ".py",
   "mimetype": "text/x-python",
   "name": "python",
   "nbconvert_exporter": "python",
   "pygments_lexer": "ipython3",
   "version": "3.12.4"
  }
 },
 "nbformat": 4,
 "nbformat_minor": 4
}
